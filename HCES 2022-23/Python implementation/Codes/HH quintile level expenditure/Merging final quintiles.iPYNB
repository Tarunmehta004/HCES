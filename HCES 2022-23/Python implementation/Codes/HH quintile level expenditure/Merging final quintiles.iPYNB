{
 "cells": [
  {
   "cell_type": "markdown",
   "metadata": {},
   "source": [
    "# Importing libraries"
   ]
  },
  {
   "cell_type": "code",
   "execution_count": 1,
   "metadata": {},
   "outputs": [],
   "source": [
    "import pandas as pd\n",
    "import os\n",
    "import numpy as np"
   ]
  },
  {
   "cell_type": "markdown",
   "metadata": {},
   "source": [
    "# Reading pickle files"
   ]
  },
  {
   "cell_type": "code",
   "execution_count": 2,
   "metadata": {},
   "outputs": [],
   "source": [
    "# Read all .pkl files in the current directory\n",
    "pkl_files = []\n",
    "for file in os.listdir():\n",
    "    if file.endswith('.pkl') and file not in [\"hh_quintile.pkl\"]:\n",
    "        pkl_files.append(file)"
   ]
  },
  {
   "cell_type": "code",
   "execution_count": 3,
   "metadata": {},
   "outputs": [],
   "source": [
    "# Dictionary containing level wise data frames\n",
    "df_dict = {}\n",
    "for file in pkl_files:\n",
    "    df_name = 'df_' + file.split(\".\")[0]\n",
    "    df = pd.read_pickle(file)\n",
    "    df = df.transpose()                                         # Transposes each df for readability\n",
    "    df = df.rename_axis(index = 'item_code', columns = None)    # Removes the name of column title\n",
    "    df = df.reset_index()                                       # Makes item_code a df column and resets index\n",
    "    df_dict[df_name] = df"
   ]
  },
  {
   "cell_type": "code",
   "execution_count": 4,
   "metadata": {},
   "outputs": [],
   "source": [
    "# Vertically concat all dataframes based on decile columns\n",
    "try:\n",
    "    keys = [key for key in df_dict.keys()]\n",
    "    final_df = pd.DataFrame()\n",
    "    for key in keys:\n",
    "        final_df = pd.concat([final_df,df_dict[key]])\n",
    "    final_df = final_df.drop_duplicates(subset = 'item_code')\n",
    "except Exception as e:\n",
    "    print(e)"
   ]
  },
  {
   "cell_type": "code",
   "execution_count": 5,
   "metadata": {},
   "outputs": [
    {
     "data": {
      "text/html": [
       "<div>\n",
       "<style scoped>\n",
       "    .dataframe tbody tr th:only-of-type {\n",
       "        vertical-align: middle;\n",
       "    }\n",
       "\n",
       "    .dataframe tbody tr th {\n",
       "        vertical-align: top;\n",
       "    }\n",
       "\n",
       "    .dataframe thead th {\n",
       "        text-align: right;\n",
       "    }\n",
       "</style>\n",
       "<table border=\"1\" class=\"dataframe\">\n",
       "  <thead>\n",
       "    <tr style=\"text-align: right;\">\n",
       "      <th></th>\n",
       "      <th>item_code</th>\n",
       "      <th>1</th>\n",
       "      <th>2</th>\n",
       "      <th>3</th>\n",
       "      <th>4</th>\n",
       "      <th>5</th>\n",
       "    </tr>\n",
       "  </thead>\n",
       "  <tbody>\n",
       "    <tr>\n",
       "      <th>0</th>\n",
       "      <td>260</td>\n",
       "      <td>106.44</td>\n",
       "      <td>125.36</td>\n",
       "      <td>148.45</td>\n",
       "      <td>170.06</td>\n",
       "      <td>211.13</td>\n",
       "    </tr>\n",
       "    <tr>\n",
       "      <th>1</th>\n",
       "      <td>202</td>\n",
       "      <td>723.60</td>\n",
       "      <td>1035.53</td>\n",
       "      <td>1266.50</td>\n",
       "      <td>1485.34</td>\n",
       "      <td>1914.30</td>\n",
       "    </tr>\n",
       "    <tr>\n",
       "      <th>2</th>\n",
       "      <td>219</td>\n",
       "      <td>6935.13</td>\n",
       "      <td>9821.90</td>\n",
       "      <td>11450.11</td>\n",
       "      <td>13007.86</td>\n",
       "      <td>16395.59</td>\n",
       "    </tr>\n",
       "    <tr>\n",
       "      <th>3</th>\n",
       "      <td>189</td>\n",
       "      <td>4619.29</td>\n",
       "      <td>6763.21</td>\n",
       "      <td>7676.86</td>\n",
       "      <td>8396.67</td>\n",
       "      <td>10051.68</td>\n",
       "    </tr>\n",
       "    <tr>\n",
       "      <th>4</th>\n",
       "      <td>253</td>\n",
       "      <td>478.37</td>\n",
       "      <td>687.28</td>\n",
       "      <td>801.78</td>\n",
       "      <td>937.34</td>\n",
       "      <td>1139.82</td>\n",
       "    </tr>\n",
       "  </tbody>\n",
       "</table>\n",
       "</div>"
      ],
      "text/plain": [
       "  item_code        1        2         3         4         5\n",
       "0       260   106.44   125.36    148.45    170.06    211.13\n",
       "1       202   723.60  1035.53   1266.50   1485.34   1914.30\n",
       "2       219  6935.13  9821.90  11450.11  13007.86  16395.59\n",
       "3       189  4619.29  6763.21   7676.86   8396.67  10051.68\n",
       "4       253   478.37   687.28    801.78    937.34   1139.82"
      ]
     },
     "metadata": {},
     "output_type": "display_data"
    },
    {
     "name": "stdout",
     "output_type": "stream",
     "text": [
      "(444, 6)\n"
     ]
    }
   ],
   "source": [
    "display(final_df.head())\n",
    "print(final_df.shape)"
   ]
  },
  {
   "cell_type": "markdown",
   "metadata": {},
   "source": [
    "# Item codes"
   ]
  },
  {
   "cell_type": "code",
   "execution_count": 6,
   "metadata": {},
   "outputs": [],
   "source": [
    "# All item codes\n",
    "\n",
    "## Level 5\n",
    "ic_51 = ['061', '062', '070', '101', '102', '103', '105', '106', '107', '108', '110', '111', '112', '114', '001', '002', '122', '129', '139', \\\n",
    "         '055', '064', '068','116', '058', '056', '115', '121', '057', '063', '066', '117', '120', '059', '118', '060', '067'] \n",
    "ic_52 = ['140', '143', '144', '145', '141', '142', '146', '148', '150', '158', '152', '071', '072', '159']\n",
    "ic_53 = ['073', '074', '178', '170', '171', '172', '173', '174', '175', '179']\n",
    "ic_61 = ['160', '162', '164', '163', '165', '166', '003', '004', '005', '092', '169', '007', '167', '006']\n",
    "ic_62 = ['201', '200', '202', '206', '203', '208', '207', '211', '213', '212', '210', '215', '214', '205', '204', '216', '217', '219']\n",
    "ic_63 = ['220', '236', '224', '231', '237', '225', '226', '230', '228', '222', '232', '093', '239', '233', '223', '235', '234', '221', '238', '227']\n",
    "ic_64 = ['240', '241', '243', '242', '245', '246', '094', '249', '247', '008', '010']\n",
    "ic_65 = ['190', '195', '191', '192', '193', '194', '196', '199']\n",
    "ic_66 = ['181', '184', '182', '183', '188', '095', '075', '189', '185', '180']\n",
    "ic_67 = ['256', '254', '252', '253', '251', '250', '258', '255', '257', '260', '263', '261', '269']\n",
    "ic_68 = ['270', '271', '272', '273', '274', '011', '275', '276', '278', '279']\n",
    "\n",
    "## Level 6\n",
    "ic_71 = [ \"076\",\"280\", \"281\", \"282\", \"283\", \"284\", \"289\"]\n",
    "ic_72 = [\"012\", \"161\", \"290\", \"013\", \"291\", \"292\", \"293\", \"294\", \"295\", \"113\", \"014\", \"015\", \"296\", \"299\"]\n",
    "\n",
    "## Level 8\n",
    "ic_81 = [\"332\", \"338\", \"331\", \"334\", \"335\", \"096\", \"349\", '346', '333', '336', '340', '344', '341', '345', '342', '337', '343']\n",
    "\n",
    "## Level 9\n",
    "ic_91 = [\"450\", \"016\", \"451\", \"453\", \"017\", \"018\", \"452\", \"020\", \"021\", \"456\", \"022\", \"454\", \"455\", \"457\", \"459\"]   \n",
    "ic_92 = [\"466\", \"467\", \"465\", \"471\", \"464\", \"468\", \"470\", \"023\", \"460\", \"462\", \"461\", \"463\", \"472\", \"479\"]\n",
    "ic_101 = [\"405\", \"406\", \"400\", \"401\", \"404\", \"408\", \"409\"]\n",
    "ic_102 = [\"410\", \"412\", \"411\", \"413\", \"414\", \"419\"]\n",
    "ic_103 = ['420', '422', '421', '423', '424', '429']\n",
    "ic_111 = [\"024\", \"504\", \"025\", \"506\", \"505\", \"500\", \"508\", \"501\", \"510\", \"026\", \"511\", \"503\", \"512\", \"513\", \"514\", \"519\"]\n",
    "ic_112 = [\"488\", \"487\", \"496\", \"540\", \"483\", \"480\", \"484\", \"482\", \"481\", \"027\", \"485\", \"486\", \"492\", \"495\", \"494\", \"493\", \"490\", \"497\", \"499\"]\n",
    "ic_113 = [\"437\", \"430\", \"402\", \"435\", \"433\", \"028\", \"438\", \"439\"]\n",
    "ic_114 = [\"520\", \"521\", \"522\", \"523\", \"529\", \"539\"]\n",
    "ic_115 = [\"899\"] # Considering separate from ic_114 because it's for 365 dqys\n",
    "\n",
    "## Level 10\n",
    "ic_121 = ['300', '301', '302', '309']\n",
    "ic_122 = ['310', '311', '316', '312', '314', '315', '313', '317', '319']\n",
    "ic_123 = ['322', '324', '323', '321', '320', '325', '329']\n",
    "\n",
    "## Level 12\n",
    "ic_131 = [\"351\", \"352\", \"353\", \"030\", \"363\", \"031\", \"364\", \"354\", \"032\", \"358\", \"360\", \"356\", \"357\", \"033\", \"361\", \"362\", \"365\", \"034\", \"368\", \"355\", \"366\", \"367\", \"370\", \"350\", \"371\", \"373\", \"372\", \"374\", \"375\", \"379\"]\n",
    "ic_132 = [\"393\", \"390\", \"391\", \"392\", \"394\", \"395\", \"399\"]\n",
    "ic_133 = [\"380\", \"381\", \"383\", \"382\", \"385\", \"384\", \"386\", \"389\"]\n",
    "\n",
    "## Level 13\n",
    "ic_1401 = [\"440\", \"441\", \"442\", \"623\", \"624\", \"622\", \"620\", \"554\", \"035\", \"621\", \"625\", \"629\"]\n",
    "ic_1402 = [\"601\", \"602\", \"600\", \"603\", \"604\", \"609\"]\n",
    "ic_1403 = [\"036\", \"037\", \"432\", \"097\", \"099\"]\n",
    "ic_1404 = [\"040\", \"041\", \"610\", \"042\", \"611\", \"619\"]\n",
    "ic_1405 = [\"580\", \"043\", \"581\", \"044\", \"045\", \"588\", \"585\", \"582\", \"046\", \"586\", \"590\", \"047\", \"048\", \"587\", \"591\", \"584\", \"583\", \"592\", \"599\"]\n",
    "ic_1406 = [\"570\", \"571\", \"572\", \"050\", \"573\", \"579\"]\n",
    "ic_1407 = [\"550\", \"551\", \"552\", \"553\", \"555\", \"556\", \"557\", \"559\"]\n",
    "ic_1408 = [\"560\", \"561\", \"562\", \"563\", \"564\", \"569\"]\n",
    "ic_1409 = [\"632\", \"630\", \"631\", \"633\", \"639\"]\n",
    "ic_1410 = [\"640\", \"641\", \"642\", \"643\", \"649\"]"
   ]
  },
  {
   "cell_type": "code",
   "execution_count": 7,
   "metadata": {},
   "outputs": [],
   "source": [
    "# Combined level wise list\n",
    "ic_lvl5_list = ic_51 + ic_52 + ic_53+ic_61 + ic_62 + ic_63 + ic_64 + ic_65 + ic_66 + ic_67 + ic_68\n",
    "ic_lvl6_list = ic_71 + ic_72\n",
    "ic_lvl8_list = ic_81\n",
    "ic_lvl9_list = ic_91 + ic_92 + ic_101 + ic_102 + ic_103 + ic_111 + ic_112 + ic_113 + ic_114 + ic_115\n",
    "ic_lvl10_list = ic_121 + ic_122 + ic_123\n",
    "ic_lvl12_list = ic_131+ic_132+ic_133\n",
    "ic_lvl13_list = ic_1401 + ic_1402 + ic_1403 + ic_1404 + ic_1405 + ic_1406 + ic_1407 + ic_1408 + ic_1409 + ic_1410"
   ]
  },
  {
   "cell_type": "code",
   "execution_count": 8,
   "metadata": {},
   "outputs": [],
   "source": [
    "# Questionnaire/category wise list\n",
    "fdq_list = ic_lvl5_list + ic_lvl6_list\n",
    "csq_list = ic_lvl8_list + ic_lvl9_list + ic_lvl10_list\n",
    "dgq_list = ic_lvl12_list + ic_lvl13_list"
   ]
  },
  {
   "cell_type": "code",
   "execution_count": 10,
   "metadata": {},
   "outputs": [],
   "source": [
    "# Items to be avoided while summing to avoid double counting (sub totals + others)\n",
    "ic_lvl5_st_list  = ['129','159', '179', '169', '219', '239', '249', '199','189','269', '279','092' ,'093', '094','095', '055', '056', '057', '058', '059', '060', '115', '116', '117', '118', '121', '120', '063', '064', '065', '066', '067', '068']\n",
    "ic_lvl6_st_list = ['289', '299']\n",
    "ic_lvl8_st_list = ['349', '096']\n",
    "ic_lvl9_st_list = ['459', '479', '409', '419', '429', '519', '499', '439', '529', '539'] #item '539' is imputed rent. It is not considered while calculating total expenditure\n",
    "ic_lvl10_st_list = ['309', '319', '329']\n",
    "ic_lvl12_st_list = [\"379\", \"399\", \"389\"]\n",
    "ic_lvl13_st_list =  [\"629\", \"609\", \"099\", \"619\", \"599\", \"579\", \"559\", \"569\", \"639\", \"649\"]"
   ]
  },
  {
   "cell_type": "code",
   "execution_count": 11,
   "metadata": {},
   "outputs": [],
   "source": [
    "#Assigning category to each item code (FDQ/CSQ/DGQ)\n",
    "condition_list = [np.isin(final_df['item_code'], fdq_list),\n",
    "                  np.isin(final_df['item_code'], csq_list),\n",
    "                  np.isin(final_df['item_code'], dgq_list)]\n",
    "choice_list = ['fdq', 'csq', 'dgq']\n",
    "final_df['category'] = np.select(condition_list, choice_list, default = \"\")"
   ]
  },
  {
   "cell_type": "code",
   "execution_count": 12,
   "metadata": {},
   "outputs": [],
   "source": [
    "# Combined list of item codes to remove before summing (for verification)\n",
    "sub_total_list = ic_lvl5_st_list + ic_lvl6_st_list + ic_lvl8_st_list + ic_lvl9_st_list + ic_lvl10_st_list + ic_lvl12_st_list + ic_lvl13_st_list"
   ]
  },
  {
   "cell_type": "code",
   "execution_count": 13,
   "metadata": {},
   "outputs": [],
   "source": [
    "# Removing duplicates\n",
    "final_df = final_df[~final_df['item_code'].isin(sub_total_list)]\n",
    "final_df = final_df.reset_index(drop=True)"
   ]
  },
  {
   "cell_type": "code",
   "execution_count": 14,
   "metadata": {},
   "outputs": [
    {
     "data": {
      "text/html": [
       "<div>\n",
       "<style scoped>\n",
       "    .dataframe tbody tr th:only-of-type {\n",
       "        vertical-align: middle;\n",
       "    }\n",
       "\n",
       "    .dataframe tbody tr th {\n",
       "        vertical-align: top;\n",
       "    }\n",
       "\n",
       "    .dataframe thead th {\n",
       "        text-align: right;\n",
       "    }\n",
       "</style>\n",
       "<table border=\"1\" class=\"dataframe\">\n",
       "  <thead>\n",
       "    <tr style=\"text-align: right;\">\n",
       "      <th></th>\n",
       "      <th>item_code</th>\n",
       "      <th>1</th>\n",
       "      <th>2</th>\n",
       "      <th>3</th>\n",
       "      <th>4</th>\n",
       "      <th>5</th>\n",
       "      <th>category</th>\n",
       "    </tr>\n",
       "  </thead>\n",
       "  <tbody>\n",
       "    <tr>\n",
       "      <th>0</th>\n",
       "      <td>260</td>\n",
       "      <td>106.44</td>\n",
       "      <td>125.36</td>\n",
       "      <td>148.45</td>\n",
       "      <td>170.06</td>\n",
       "      <td>211.13</td>\n",
       "      <td>fdq</td>\n",
       "    </tr>\n",
       "    <tr>\n",
       "      <th>1</th>\n",
       "      <td>202</td>\n",
       "      <td>723.60</td>\n",
       "      <td>1035.53</td>\n",
       "      <td>1266.50</td>\n",
       "      <td>1485.34</td>\n",
       "      <td>1914.30</td>\n",
       "      <td>fdq</td>\n",
       "    </tr>\n",
       "    <tr>\n",
       "      <th>2</th>\n",
       "      <td>253</td>\n",
       "      <td>478.37</td>\n",
       "      <td>687.28</td>\n",
       "      <td>801.78</td>\n",
       "      <td>937.34</td>\n",
       "      <td>1139.82</td>\n",
       "      <td>fdq</td>\n",
       "    </tr>\n",
       "    <tr>\n",
       "      <th>3</th>\n",
       "      <td>237</td>\n",
       "      <td>149.92</td>\n",
       "      <td>287.60</td>\n",
       "      <td>394.40</td>\n",
       "      <td>514.73</td>\n",
       "      <td>755.58</td>\n",
       "      <td>fdq</td>\n",
       "    </tr>\n",
       "    <tr>\n",
       "      <th>4</th>\n",
       "      <td>140</td>\n",
       "      <td>895.66</td>\n",
       "      <td>1266.12</td>\n",
       "      <td>1386.59</td>\n",
       "      <td>1465.60</td>\n",
       "      <td>1739.44</td>\n",
       "      <td>fdq</td>\n",
       "    </tr>\n",
       "  </tbody>\n",
       "</table>\n",
       "</div>"
      ],
      "text/plain": [
       "  item_code       1        2        3        4        5 category\n",
       "0       260  106.44   125.36   148.45   170.06   211.13      fdq\n",
       "1       202  723.60  1035.53  1266.50  1485.34  1914.30      fdq\n",
       "2       253  478.37   687.28   801.78   937.34  1139.82      fdq\n",
       "3       237  149.92   287.60   394.40   514.73   755.58      fdq\n",
       "4       140  895.66  1266.12  1386.59  1465.60  1739.44      fdq"
      ]
     },
     "execution_count": 14,
     "metadata": {},
     "output_type": "execute_result"
    }
   ],
   "source": [
    "final_df.head()"
   ]
  },
  {
   "cell_type": "code",
   "execution_count": 15,
   "metadata": {},
   "outputs": [
    {
     "data": {
      "text/html": [
       "<div>\n",
       "<style scoped>\n",
       "    .dataframe tbody tr th:only-of-type {\n",
       "        vertical-align: middle;\n",
       "    }\n",
       "\n",
       "    .dataframe tbody tr th {\n",
       "        vertical-align: top;\n",
       "    }\n",
       "\n",
       "    .dataframe thead th {\n",
       "        text-align: right;\n",
       "    }\n",
       "</style>\n",
       "<table border=\"1\" class=\"dataframe\">\n",
       "  <thead>\n",
       "    <tr style=\"text-align: right;\">\n",
       "      <th></th>\n",
       "      <th>1</th>\n",
       "      <th>2</th>\n",
       "      <th>3</th>\n",
       "      <th>4</th>\n",
       "      <th>5</th>\n",
       "    </tr>\n",
       "    <tr>\n",
       "      <th>category</th>\n",
       "      <th></th>\n",
       "      <th></th>\n",
       "      <th></th>\n",
       "      <th></th>\n",
       "      <th></th>\n",
       "    </tr>\n",
       "  </thead>\n",
       "  <tbody>\n",
       "    <tr>\n",
       "      <th></th>\n",
       "      <td>95854.28</td>\n",
       "      <td>160936.50</td>\n",
       "      <td>215570.25</td>\n",
       "      <td>287080.73</td>\n",
       "      <td>494330.71</td>\n",
       "    </tr>\n",
       "    <tr>\n",
       "      <th>csq</th>\n",
       "      <td>37124.39</td>\n",
       "      <td>64239.12</td>\n",
       "      <td>89539.37</td>\n",
       "      <td>125828.50</td>\n",
       "      <td>235929.11</td>\n",
       "    </tr>\n",
       "    <tr>\n",
       "      <th>dgq</th>\n",
       "      <td>9894.61</td>\n",
       "      <td>17764.36</td>\n",
       "      <td>24832.27</td>\n",
       "      <td>35249.00</td>\n",
       "      <td>75709.78</td>\n",
       "    </tr>\n",
       "    <tr>\n",
       "      <th>fdq</th>\n",
       "      <td>48835.33</td>\n",
       "      <td>78933.02</td>\n",
       "      <td>101198.64</td>\n",
       "      <td>126003.20</td>\n",
       "      <td>182691.81</td>\n",
       "    </tr>\n",
       "  </tbody>\n",
       "</table>\n",
       "</div>"
      ],
      "text/plain": [
       "                 1          2          3          4          5\n",
       "category                                                      \n",
       "          95854.28  160936.50  215570.25  287080.73  494330.71\n",
       "csq       37124.39   64239.12   89539.37  125828.50  235929.11\n",
       "dgq        9894.61   17764.36   24832.27   35249.00   75709.78\n",
       "fdq       48835.33   78933.02  101198.64  126003.20  182691.81"
      ]
     },
     "execution_count": 15,
     "metadata": {},
     "output_type": "execute_result"
    }
   ],
   "source": [
    "# Aggregating based on category\n",
    "final_df.groupby(by = 'category')[final_df.columns.difference(['item_code', 'category'])].apply('sum')"
   ]
  },
  {
   "cell_type": "code",
   "execution_count": 16,
   "metadata": {},
   "outputs": [],
   "source": [
    "final_df.to_clipboard()"
   ]
  },
  {
   "cell_type": "code",
   "execution_count": null,
   "metadata": {},
   "outputs": [],
   "source": []
  }
 ],
 "metadata": {
  "kernelspec": {
   "display_name": "HCES_22_23_env",
   "language": "python",
   "name": "python3"
  },
  "language_info": {
   "codemirror_mode": {
    "name": "ipython",
    "version": 3
   },
   "file_extension": ".py",
   "mimetype": "text/x-python",
   "name": "python",
   "nbconvert_exporter": "python",
   "pygments_lexer": "ipython3",
   "version": "3.12.4"
  }
 },
 "nbformat": 4,
 "nbformat_minor": 2
}

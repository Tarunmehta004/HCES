{
 "cells": [
  {
   "cell_type": "markdown",
   "metadata": {},
   "source": [
    "# Importing libraries"
   ]
  },
  {
   "cell_type": "code",
   "execution_count": 21,
   "metadata": {},
   "outputs": [],
   "source": [
    "import pandas as pd\n",
    "import pathlib\n",
    "import glob\n",
    "import os"
   ]
  },
  {
   "cell_type": "markdown",
   "metadata": {},
   "source": [
    "# Converting files to dta"
   ]
  },
  {
   "cell_type": "code",
   "execution_count": 43,
   "metadata": {},
   "outputs": [
    {
     "name": "stdout",
     "output_type": "stream",
     "text": [
      "Processed file level_15\n",
      "Processed file level_01\n",
      "Processed file level_02\n",
      "Processed file level_03\n",
      "Processed file level_04\n",
      "Processed file level_05\n",
      "Processed file level_06\n",
      "Processed file level_07\n",
      "Processed file level_08\n",
      "Processed file level_09\n",
      "Processed file level_10\n",
      "Processed file level_11\n",
      "Processed file level_12\n",
      "Processed file level_13\n",
      "Processed file level_14\n"
     ]
    }
   ],
   "source": [
    "for file_path in glob.glob(r'../../Parquet raw files/*'):\n",
    "    \n",
    "    # New file path\n",
    "    new_directory = '../../Dta raw files/'\n",
    "    file_name = os.path.basename(file_path).split('.')[0]\n",
    "    new_file_path = new_directory + file_name + '.dta'\n",
    "    \n",
    "    # Storing as dta\n",
    "    if pathlib.Path(new_file_path).exists():\n",
    "        print(\"File already exists.\")\n",
    "    else:\n",
    "        df = pd.read_parquet(file_path)\n",
    "        df.to_stata(new_file_path) \n",
    "        print(f'Processed file {file_name}')"
   ]
  }
 ],
 "metadata": {
  "kernelspec": {
   "display_name": "envl15nov",
   "language": "python",
   "name": "python3"
  },
  "language_info": {
   "codemirror_mode": {
    "name": "ipython",
    "version": 3
   },
   "file_extension": ".py",
   "mimetype": "text/x-python",
   "name": "python",
   "nbconvert_exporter": "python",
   "pygments_lexer": "ipython3",
   "version": "3.12.4"
  }
 },
 "nbformat": 4,
 "nbformat_minor": 2
}
